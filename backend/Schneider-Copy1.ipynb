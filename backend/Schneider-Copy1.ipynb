{
 "cells": [
  {
   "cell_type": "code",
   "execution_count": 1,
   "metadata": {},
   "outputs": [],
   "source": [
    "import pymongo\n",
    "import re\n",
    "from collections import OrderedDict\n",
    "from datetime import datetime"
   ]
  },
  {
   "cell_type": "code",
   "execution_count": 2,
   "metadata": {},
   "outputs": [],
   "source": [
    "myclient = pymongo.MongoClient(\"mongodb://localhost:27017\", username=\"\", password=\"\")\n",
    "raw_events_db = myclient[\"raw_events_db\"]\n",
    "events_collection = raw_events_db[\"events\"]\n",
    "\n",
    "applications_db = myclient['applications_db']\n",
    "applications_collection= applications_db['applications']"
   ]
  },
  {
   "cell_type": "code",
   "execution_count": 3,
   "metadata": {},
   "outputs": [
    {
     "output_type": "stream",
     "name": "stdout",
     "text": [
      "# Applications:  419\n"
     ]
    }
   ],
   "source": [
    "applications_documents = applications_collection.find({},projection = {\"_id\":1,\"name\":1}).sort(\"name\")\n",
    "\n",
    "app_id_app_name_dict = {}\n",
    "\n",
    "for x in applications_documents:\n",
    "    app_id = x['_id'].strip()\n",
    "    app_name = x['name'].strip()\n",
    "    app_id_app_name_dict[app_id] = app_name\n",
    "print(\"# Applications: \",len(app_id_app_name_dict))"
   ]
  },
  {
   "cell_type": "code",
   "execution_count": 4,
   "metadata": {},
   "outputs": [
    {
     "output_type": "stream",
     "name": "stdout",
     "text": [
      "37f0228f2734c8010512d447a080fad3  -  stoffice  -  88117\nbf57c906fa7d2bb66d07372e41585d96  -  excel  -  73844\ncd0fbb7849b9b9d84c4f8e48e7301ecf  -  outlook  -  69798\na2b5ab0a0378213f941106a349e9304b  -  ifs.corp.lpl.com  -  55706\naa25d6af980471b133f7ad0f981aec16  -  vncecmxcp2prd.ncprod.lpl.com  -  23476\nf6f4ab435f8857ee0528a815c0f6728c  -  lplecm.crm.dynamics.com  -  8526\n0186dcc060cb68888b8a088ec9c9332e  -  msaccess  -  8195\n9edc8b8fa912a3d810043b9f17ea7a8a  -  winword  -  217\nTotal Event Count:  327879\n"
     ]
    }
   ],
   "source": [
    "#Get events per application\n",
    "pipeline= [{\"$group\": {\"_id\": \"$application_id\", \"count\": {\"$sum\": 1}}}]\n",
    "app_id_event_count_doc = events_collection.aggregate(pipeline)\n",
    "app_id_event_count_dict  = {}\n",
    "\n",
    "total_count = 0\n",
    "for x in app_id_event_count_doc:\n",
    "    app_id = x['_id'].strip()\n",
    "    event_count = x['count']\n",
    "    total_count += event_count\n",
    "    app_id_event_count_dict[app_id] = event_count\n",
    "\n",
    "app_id_event_count_dict =  OrderedDict(sorted(app_id_event_count_dict.items(), key=lambda kv:(kv[1], kv[0]), reverse=True))\n",
    "for app_id in app_id_event_count_dict:\n",
    "    print(app_id,\" - \", app_id_app_name_dict[app_id], \" - \", app_id_event_count_dict[app_id])\n",
    "\n",
    "print(\"Total Event Count: \",total_count)"
   ]
  },
  {
   "cell_type": "code",
   "execution_count": 12,
   "metadata": {},
   "outputs": [],
   "source": [
    "for app_id in app_id_event_count_dict:\n",
    "    app_id_title_docs = events_collection.find({\"application_id\": app_id}, projection={'title':1, 'specifications.event_path':1})\n",
    "    title_set = set({})\n",
    "    event_path_set = set({})\n",
    "\n",
    "    for x in app_id_title_docs:\n",
    "        title_set.add(x['title'])\n",
    "        event_path_set.add(x['specifications']['event_path'])\n",
    "\n",
    "    f = open(\"../Schneider/\"+app_id_app_name_dict[app_id].replace(\":\",\"_\").replace(\"-\",\"_\")+\"_title.txt\",'w', encoding=\"utf-8\")\n",
    "    for title in title_set:\n",
    "        f.write(title)\n",
    "        f.write(\"\\n\")\n",
    "    f.close()\n",
    "    f = open(\"../Schneider/\"+app_id_app_name_dict[app_id].replace(\":\",\"_\").replace(\"-\",\"_\")+\"_event_path.txt\",'w', encoding=\"utf-8\")\n",
    "    for event_path in event_path_set:\n",
    "        f.write(event_path)\n",
    "        f.write(\"\\n\")\n",
    "    f.close()"
   ]
  },
  {
   "cell_type": "code",
   "execution_count": 14,
   "metadata": {},
   "outputs": [
    {
     "output_type": "stream",
     "name": "stdout",
     "text": [
      "50033 122\n50029 45\n50000 41\n50025 35\n50032 26\n50004 19\n50020 12\n50034 9\n50003 9\n50021 6\n50011 6\n50008 4\n50030 2\n50026 2\n50018 2\n50017 2\n50014 2\n50009 2\n50007 2\n50037 1\n50036 1\n50027 1\n50006 1\n50002 1\n"
     ]
    }
   ],
   "source": [
    "input_dir = \"../Schneider/\"\n",
    "application_name = 'msaccess'.replace(\"-\",\"_\")\n",
    "\n",
    "\n",
    "control_type_control_name_set_dict = {}\n",
    "control_type_automation_id_set_dict = {}\n",
    "control_type_automation_id_count_dict = {}\n",
    "\n",
    "f = open(input_dir + application_name+\"_event_path.txt\",'r', encoding='utf-8')\n",
    "lines = f.readlines()\n",
    "f.close()\n",
    "\n",
    "for line in lines:\n",
    "    event_path = line.strip()\n",
    "    if len(event_path) == 0:\n",
    "        continue\n",
    "    #if 'user' in event_path.lower():\n",
    "    #    print(event_path)\n",
    "    event_path_items = event_path.split(\"\\/\")\n",
    "    for event_path_item in event_path_items:\n",
    "        event_path_item_elements = event_path_item.split(\"\\|\")\n",
    "        if len(event_path_item_elements) < 4:\n",
    "            continue\n",
    "        automation_id = event_path_item_elements[1][3:].strip()\n",
    "        control_type = event_path_item_elements[2][2:].strip()\n",
    "        control_name = event_path_item_elements[3][2:].strip()\n",
    "        \n",
    "        if control_type in control_type_control_name_set_dict:\n",
    "            control_type_control_name_set = control_type_control_name_set_dict[control_type]\n",
    "        else:\n",
    "            control_type_control_name_set = set({})\n",
    "        control_type_control_name_set.add(control_name)\n",
    "        control_type_control_name_set_dict[control_type] = control_type_control_name_set\n",
    "        \n",
    "        if control_type in control_type_automation_id_set_dict:\n",
    "            control_type_automation_id_set = control_type_automation_id_set_dict[control_type]\n",
    "            \n",
    "        else:\n",
    "            control_type_automation_id_set = set({})\n",
    "        control_type_automation_id_set.add(automation_id)\n",
    "        control_type_automation_id_set_dict[control_type] = control_type_automation_id_set\n",
    "\n",
    "        if control_type in control_type_automation_id_count_dict:\n",
    "            automation_id_count_dict = control_type_automation_id_count_dict[control_type]\n",
    "        else:\n",
    "            automation_id_count_dict = {}\n",
    "        count = 1\n",
    "        if automation_id in automation_id_count_dict:\n",
    "            count += automation_id_count_dict[automation_id]\n",
    "        automation_id_count_dict[automation_id] = count\n",
    "        control_type_automation_id_count_dict[control_type] = automation_id_count_dict\n",
    "        \n",
    "control_type_control_name_count_dict = {}\n",
    "for control_type in control_type_control_name_set_dict:\n",
    "    control_type_control_name_count_dict[control_type] = len(control_type_control_name_set_dict[control_type])\n",
    "control_type_control_name_count_dict = OrderedDict(sorted(control_type_control_name_count_dict.items(), key=lambda kv:(kv[1], kv[0]), reverse=True))\n",
    "\n",
    "for control_type in control_type_automation_id_count_dict:\n",
    "    automation_id_count = control_type_automation_id_count_dict[control_type]\n",
    "    automation_id_count = OrderedDict(sorted(automation_id_count.items(), key=lambda kv:(kv[1], kv[0]), reverse=True))\n",
    "    control_type_automation_id_count_dict[control_type] = automation_id_count\n",
    "    \n",
    "for control_type in control_type_control_name_count_dict:\n",
    "    print(control_type, control_type_control_name_count_dict[control_type])"
   ]
  },
  {
   "cell_type": "code",
   "execution_count": 19,
   "metadata": {
    "tags": []
   },
   "outputs": [
    {
     "output_type": "stream",
     "name": "stdout",
     "text": [
      "\nTables\n"
     ]
    }
   ],
   "source": [
    "# print(control_type_control_name_set_dict)\n",
    "for control_name in sorted(control_type_control_name_set_dict['50026']):\n",
    "    # if \"Realize Your Potential\" in control_name:\n",
    "        print(control_name)"
   ]
  },
  {
   "cell_type": "code",
   "execution_count": 8,
   "metadata": {},
   "outputs": [
    {
     "output_type": "stream",
     "name": "stdout",
     "text": [
      "mainContent 2986\n 538\nid-22 147\nid-25 139\nid-1427 67\nid-375 45\nid-394 44\nid-1594 40\nid-1407 34\nid-21 32\nid-1145 32\nid-2745 31\nid-1712 30\nid-799 29\nid-844 28\nid-24 27\nid-866 26\nid-1141 26\nid-489 25\nid-1097 24\nid-580 23\nid-16654191-19ad-48ca-9e46-c4b4fbdad76f-17-ownerid-error-message 23\nid-1895 22\nid-769 21\nid-76 21\nid-355 21\nid-1692 20\nid-813 19\nid-599 19\nid-1159 19\nid-554 18\nid-1348 18\nid-1187 18\nid-1776 17\nid-1414 17\nid-786 16\nid-779 16\nid-91 15\nid-2725 15\nid-374 14\nid-362 14\nid-1328 14\nid-1077 14\nid-603 13\nid-1667 13\nid-783 12\nid-381 12\nid-37 12\nid-287 12\nid-673 11\nid-643 11\nid-547 11\nid-177 11\nid-16780 11\nid-1084 11\nid-878 10\nid-559 10\nid-377 10\nid-16824 10\nid-1581 10\nid-1410 10\nid-1121 10\nGrid95f1f1ee-7eae-d339-95d0-58b3f353f156_component 10\nid-9071 9\nid-85 9\nid-72 9\nid-478 9\nid-358 9\nid-3500 9\nid-2416 9\nid-1711 9\nid-133 9\nid-657 8\nid-331 8\nid-16794 8\nid-1398 8\nid-853 7\nid-831 7\nid-671 7\nid-551 7\nid-541 7\nid-476 7\nid-469 7\nid-391 7\nid-3095 7\nid-2732 7\nid-2728 7\nid-271 7\nid-2391 7\nid-147 7\nid-1128 7\nappProgressIndicatorView 7\nid-849 6\nid-846 6\nid-803 6\nid-3739 6\nid-365 6\nid-2301 6\nid-1892 6\nid-1699 6\nid-140 6\nid-1345 6\nid-1331 6\nid-1110 6\ndialogRoot_36 6\nid-989 5\nid-692 5\nid-629 5\nid-591 5\nid-561 5\nid-372 5\nid-356 5\nid-315 5\nid-281 5\nid-2742 5\nid-240 5\nid-1882 5\nid-184 5\nid-1759 5\nid-1695 5\nid-1591 5\nid-1577 5\nid-154 5\nid-1178 5\nid-1080 5\nGridf5d676ee-16d4-b05f-ad07-f347d5c38102_component 5\nGridf3a7ff45-deb2-3127-90d1-6f90e7ab8e03_component 5\nGridf224ebf5-3ff7-cf62-9190-54d52e345eb5_component 5\nGridee79d595-27b7-ee84-b39b-ed65f3691cd8_component 5\nGridcc324723-9ff2-d9b8-9b43-525c3ca2a356_component 5\nGridab94296b-ef72-e7c5-a356-be5d72a869bc_component 5\nGrid9db9c545-424b-8c0f-8c25-ece73624cdcb_component 5\nGrid7787fe32-e102-e1f5-b43d-614bb39d62ff_component 5\nGrid5fb6e942-e9d7-2099-ab0e-a3c38459f9fe_component 5\nmodalDialogRoot_3 4\nid-988 4\nid-9336 4\nid-911 4\nid-841 4\nid-827 4\nid-824 4\nid-815 4\nid-790 4\nid-782 4\nid-7597 4\nid-65 4\nid-522 4\nid-4960 4\nid-472 4\nid-438 4\nid-301 4\nid-2946 4\nid-254 4\nid-2405 4\nid-22980 4\nid-1918 4\nid-1875 4\nid-1574 4\nid-153 4\nid-1319 4\nid-1173 4\nid-1124 4\nid-1112 4\nGridf1356e51-ae2a-fccc-adb4-a8043f059fad_component 4\nGriddbcbce4f-8ca6-3b11-aff1-ba30faa32a7e_component 4\nGrid706da459-93c6-b765-8407-90b82705c2e5_component 4\nGrid57b57c5f-7a55-7462-9136-2fed0b869756_component 4\nGrid28bcabae-ed49-3f8d-b9fb-4465409ea7cb_component 4\ntimeline_search_container 3\nmodalDialogRoot_7 3\nmodalDialogRoot_5 3\nmodalDialogRoot_32 3\nmodalDialogRoot_24 3\nmodalDialogRoot_11 3\nid-976 3\nid-848 3\nid-834 3\nid-800 3\nid-796 3\nid-697 3\nid-686 3\nid-637 3\nid-5446 3\nid-458 3\nid-443 3\nid-4235 3\nid-389 3\nid-382 3\nid-314 3\nid-2949 3\nid-267 3\nid-2020 3\nid-196 3\nid-1763 3\nid-1756 3\nid-1565 3\nid-1558 3\nid-1520 3\nid-1335 3\nid-1316 3\nid-1302 3\nid-1301 3\nid-11598 3\nid-1068 3\nGride237d148-b0c5-60c6-bce9-ec70614f4b5c_component 3\nGridbed69c52-bd67-dcb7-8547-21ba05beba07_component 3\nGrid3179a45a-696f-06c5-9180-777fc81a1204_component 3\nGrid313b16d3-0d22-ec53-bf2f-62e4b1ca4117_component 3\nmodalDialogRoot_9 2\nmodalDialogRoot_84 2\nmodalDialogRoot_37 2\nmodalDialogRoot_33 2\nmodalDialogRoot_27 2\nmodalDialogRoot_25 2\nmodalDialogRoot_13 2\nmodalDialogRoot_10 2\nid-955 2\nid-872 2\nid-863 2\nid-8502 2\nid-770 2\nid-765 2\nid-7639 2\nid-748 2\nid-745 2\nid-741 2\nid-734 2\nid-730 2\nid-701 2\nid-677 2\nid-613 2\nid-574 2\nid-537 2\nid-473 2\nid-460 2\nid-386 2\nid-346 2\nid-325 2\nid-285 2\nid-2739 2\nid-273 2\nid-255 2\nid-249 2\nid-241 2\nid-237 2\nid-235 2\nid-2038 2\nid-1878 2\nid-1773 2\nid-171 2\nid-1709 2\nid-1683 2\nid-1681 2\nid-16784 2\nid-1674 2\nid-1644 2\nid-1570 2\nid-1555 2\nid-152 2\nid-1149 2\nid-1029 2\nid-101 2\ndialogRoot_9 2\ndialogRoot_51 2\ndialogRoot_31 2\ndialogRoot_21 2\ndialogRoot_14 2\ndialogRoot_12 2\ndialogRoot_106 2\nGridfadc2e8c-9724-529a-8f14-130193906b98_component 2\nGridf27aa5b9-96a8-8ae9-9ca8-564be1bbb9f6_component 2\nGridec8e7ca5-f58f-2587-82c6-0634e699ffda_component 2\nGridaf1636a3-bd37-3b47-9174-02ca0ccca747_component 2\nGridac17e2c8-e045-1d6f-b840-ba401e8c8384_component 2\nGrid97f99d5c-d55f-89e1-a95e-e9e3b6d87b3a_component 2\nGrid8ab68904-df94-926f-874e-ab1032ad32c7_component 2\nGrid7b5b7117-3974-9560-87ca-0a7ea3d332ba_component 2\nGrid608e6733-fe8c-2db0-9575-677628f93830_component 2\nGrid387aed3c-21c3-ad35-a2ab-d0a95c028485_component 2\nGrid1f0aeedc-61a0-9977-8783-23ec1d5e73ca_component 2\nGrid1025f8bc-93e1-d707-aa62-93b3ed250925_component 2\nGrid0edd4c8c-6234-405d-8d81-083c792cd379_component 2\nGrid01562105-c6a8-8e8c-94a7-5bc9dd25cb92_component 2\npage-outer 1\nmodalDialogRoot_98 1\nmodalDialogRoot_93 1\nmodalDialogRoot_90 1\nmodalDialogRoot_8 1\nmodalDialogRoot_64 1\nmodalDialogRoot_60 1\nmodalDialogRoot_6 1\nmodalDialogRoot_59 1\nmodalDialogRoot_58 1\nmodalDialogRoot_55 1\nmodalDialogRoot_54 1\nmodalDialogRoot_51 1\nmodalDialogRoot_50 1\nmodalDialogRoot_49 1\nmodalDialogRoot_45 1\nmodalDialogRoot_42 1\nmodalDialogRoot_41 1\nmodalDialogRoot_40 1\nmodalDialogRoot_4 1\nmodalDialogRoot_39 1\nmodalDialogRoot_36 1\nmodalDialogRoot_35 1\nmodalDialogRoot_34 1\nmodalDialogRoot_31 1\nmodalDialogRoot_30 1\nmodalDialogRoot_28 1\nmodalDialogRoot_26 1\nmodalDialogRoot_23 1\nmodalDialogRoot_19 1\nmodalDialogRoot_18 1\nmodalDialogRoot_16 1\nmodalDialogRoot_15 1\nmodalDialogRoot_117 1\nid-986 1\nid-969 1\nid-946 1\nid-944 1\nid-941 1\nid-925 1\nid-923 1\nid-8795 1\nid-8775 1\nid-869 1\nid-8499 1\nid-847 1\nid-837 1\nid-817 1\nid-773 1\nid-7673 1\nid-762 1\nid-7614 1\nid-7611 1\nid-761 1\nid-7601 1\nid-752 1\nid-736 1\nid-725 1\nid-717 1\nid-715 1\nid-713 1\nid-710 1\nid-690 1\nid-683 1\nid-640 1\nid-634 1\nid-626 1\nid-614 1\nid-607 1\nid-600 1\nid-594 1\nid-586 1\nid-58 1\nid-577 1\nid-573 1\nid-57 1\nid-56 1\nid-553 1\nid-55 1\nid-534 1\nid-5130 1\nid-509 1\nid-5086 1\nid-5057 1\nid-486 1\nid-459 1\nid-455 1\nid-4270 1\nid-4205 1\nid-4191 1\nid-405 1\nid-3b46e1b1-be20-424a-8ee6-1e14f6eac99a-6-primarycontactid-error-message 1\nid-383 1\nid-370 1\nid-369 1\nid-353 1\nid-345 1\nid-3352 1\nid-3339 1\nid-3332 1\nid-330 1\nid-323 1\nid-322 1\nid-317 1\nid-3080 1\nid-306 1\nid-305 1\nid-3033 1\nid-2966 1\nid-289 1\nid-278 1\nid-2716 1\nid-270 1\nid-2695 1\nid-262 1\nid-259 1\nid-257 1\nid-239 1\nid-209 1\nid-1945 1\nid-1820 1\nid-1702 1\nid-1694 1\nid-168 1\nid-1671 1\nid-167 1\nid-16654191-19ad-48ca-9e46-c4b4fbdad76f-1-regardingobjectid6-regardingobjectid.fieldControl-LookupResultsDropdown_regardingobjectid_54_selected_tag_0 1\nid-16654191-19ad-48ca-9e46-c4b4fbdad76f-1-regardingobjectid6-regardingobjectid.fieldControl-LookupResultsDropdown_regardingobjectid_178_selected_tag_0 1\nid-1633 1\nid-1630 1\nid-1598 1\nid-1584 1\nid-1556 1\nid-1550 1\nid-1547 1\nid-1534 1\nid-1467 1\nid-144 1\nid-1424 1\nid-1330 1\nid-1280 1\nid-1279 1\nid-1258 1\nid-1249 1\nid-1170 1\nid-1138 1\nid-1066 1\nid-1062 1\nid-1046 1\nid-1040 1\ndialogRoot_83 1\ndialogRoot_82 1\ndialogRoot_72 1\ndialogRoot_70 1\ndialogRoot_63 1\ndialogRoot_62 1\ndialogRoot_59 1\ndialogRoot_5 1\ndialogRoot_49 1\ndialogRoot_45 1\ndialogRoot_29 1\ndialogRoot_26 1\ndialogRoot_16 1\ndialogRoot_13 1\ndialogRoot_115 1\ndialogRoot_11 1\nGridffe7713a-81cf-9bc4-bd4d-b9208b0b1b5f_component 1\nGridf64bd03d-d60b-fe3f-9a5d-fd9428e06904_component 1\nGridf55c96cc-b1f6-a364-9617-21aa37b5d819_component 1\nGridf27aa5b9-96a8-8ae9-9ca8-564be1bbb9f6-lpl_repid 1\nGridf16f9241-c4e7-6e16-8c56-5ca9104a788d_component 1\nGridf10e72f6-4ac7-e6f9-a7ca-4ac2e2a344ec_component 1\nGride7494b21-4818-cbe5-a8c6-7810ecf87f6b_component 1\nGride4220daa-c8d6-2b51-aa0c-4c6c80c973af_component 1\nGride30e02c3-d637-3f61-9374-31411b2982f8_component 1\nGride03800fa-80d1-efb4-a788-910500dbd327_component 1\nGriddbcbce4f-8ca6-3b11-aff1-ba30faa32a7e-lpl_repid 1\nGridd62d1d83-022d-33dd-b17a-af5e3b753668_component 1\nGridc8cf2fe6-5f2d-574b-9716-0b6a2f5e8560_component 1\nGridc8245395-1ac8-a8e1-8454-1478fefc79e2_component 1\nGridc7d74174-df64-1d57-be7a-59daab7316a0_component 1\nGridc49faf4a-182d-340e-ab68-f030821635bb_component 1\nGridbfddb5f7-df1d-3d6d-8d01-d1455f6245aa_component 1\nGridbf014702-5e7a-7376-8808-f19f8fefa93b_component 1\nGridbe98631c-5d03-63cc-a6ae-f235ac9148cf_component 1\nGridbbdb66bd-ddab-9e16-a2ea-b825f8055bc5_component 1\nGridb2f872ee-2e7b-7b87-bf23-b832e69eab63_component 1\nGridb2b6e0af-dbd0-e4e9-9761-4dba0a852977_component 1\nGridaffa78d1-bc57-a555-a0a3-e59466c43f2d_component 1\nGridaa7143d7-96e1-364d-9451-bab4fbbfd868_component 1\nGrida6e06d87-5563-9a20-b18b-9526171afb31_component 1\nGrida0d117c0-c811-5ae1-bdb0-5ce4ef7164a5_component 1\nGrid9b54c9c9-cae7-d1be-b76b-b069c67cb384_component 1\nGrid988a9535-31bb-b2b7-93b3-4a6da2441b72_component 1\nGrid96c4e8e7-2916-befe-8b89-63cf2a5c06cd_component 1\nGrid95cc9654-9e72-a058-92ad-7e417a790fe5_component 1\nGrid91da0103-8135-8e39-837e-8d1b82b8a24d_component 1\nGrid91aba3ff-fef3-8ce9-a124-6547df4f7a6e_component 1\nGrid909a5b09-7968-718b-a5a7-3a5aebb452bc_component 1\nGrid90293d78-b6bb-775e-bf58-428f9dd7782a_component 1\nGrid9011e228-7aec-4c4e-a0d9-81d8989b9fa6_component 1\nGrid8eb9cf1f-f5f3-0985-9537-2ad06636323b_component 1\nGrid8a2fd5dc-0ba1-98e4-a8bf-eecf340727d9_component 1\nGrid817a02ad-347f-450d-8008-24fe1b9b1c7f_component 1\nGrid7f07665a-e566-a638-9c3e-470a9534e69a_component 1\nGrid7b191e4f-745b-cc62-889e-e565f3d765ae_component 1\nGrid79b3c80f-6c29-adb0-8c5f-6a216c0abaa0_component 1\nGrid70f2b744-fc24-e3b0-b37a-c0819165b5f8_component 1\nGrid66b6bac5-ff10-5b38-a041-f30017446a5b_component 1\nGrid645ed339-f9d3-da09-ba15-b00ac0dcab1e_component 1\nGrid634f938d-7b5f-da35-9bde-8ac119dfe1a4_component 1\nGrid5ee00c99-f26d-bb71-8f93-175046d19b7c_component 1\nGrid5b05fb3a-6eb4-76b1-8d39-cb4b735c806c_component 1\nGrid53b7477b-9193-1023-851f-74e3558892dc_component 1\nGrid53800bd0-7ba0-1724-b9b6-ecf457fb2ff6_component 1\nGrid51ca0bdc-fe24-8834-aa8e-e941ec358226_component 1\nGrid514adfb7-bc60-0b27-b6a1-588a706ca99f_component 1\nGrid501594ac-2893-c91f-8243-e683162f727c_component 1\nGrid4fc67302-ddcb-8e36-a2dc-253bd6cd5cb0_component 1\nGrid4d4fa4eb-0aa9-f900-b251-3fe7078bd6af_component 1\nGrid4cbfe88c-2e85-6484-a9ac-89c8a65624b9_component 1\nGrid4a412a28-cd16-9f41-bc82-ce0c399e04e7_component 1\nGrid43e1c302-e401-ef20-a1ce-8f6e8edd7860_component 1\nGrid4331a22a-4262-f318-be58-64de6f575a79_component 1\nGrid41625922-b38c-d618-88f8-6d66d118a6c4_component 1\nGrid3d8dac3c-2c74-dbeb-884f-723ae8a4b1d8_component 1\nGrid3d73b0d0-5c23-afde-ac34-75f7b89775c1_component 1\nGrid3d6c3a1d-2feb-5e8c-ad05-42ae46e2f951_component 1\nGrid3628ca51-4a36-d184-bf63-4c49ec476d17_component 1\nGrid35822348-ca68-91ac-a7d9-81849e73dbcf_component 1\nGrid34447e01-5201-16c7-be84-69e56f3767a1_component 1\nGrid327ebbb3-8121-beda-9834-104a5ff4cb29_component 1\nGrid2a3abd41-37be-0e71-a74f-19f02dddf5e3_component 1\nGrid28bcabae-ed49-3f8d-b9fb-4465409ea7cb-lpl_repid 1\nGrid2802d7af-6cdf-821d-a537-8ff0c34a812b_component 1\nGrid27b60075-021e-a367-b1c1-f5b4ba99048b_component 1\nGrid24a35769-cada-72ac-aab1-ba1d6b1005ff_component 1\nGrid24a02e6c-356a-16d2-bb1c-31f54142e5a6_component 1\nGrid24988723-646b-2dab-9c77-27ed872baa35_component 1\nGrid1f42c22a-b9d8-e20a-ae8e-ccac8d0c48d6_component 1\nGrid1a4962ad-f071-9604-9061-6329fa9aafb7_component 1\nGrid197c09d7-e976-e96e-a85e-17a579f883ed_component 1\nGrid182e40b2-641b-263b-881b-09fb27e4c522_component 1\nGrid178e69c6-acd7-b688-9131-d32f545d70bb_component 1\nGrid14699e05-b6e0-de2a-bc0e-46f0401083ea_component 1\nGrid1440101e-afbb-c2e4-8c6d-3e8ba1bdc7f5_component 1\nGrid12a7c4e1-198b-2f4c-86c2-8b2771084e43_component 1\nGrid116a290f-21fa-7e51-9964-052cece069fd_component 1\nGrid0fdb278f-f548-d547-b62d-0aa01edeb9da_component 1\nGrid0db14f07-570a-e846-bdf5-3a41f11f66ac_component 1\nGrid06d5500e-5d8b-067d-826e-1698896255a3_component 1\nGrid03ef37b5-76bd-d813-ab6e-a544afb2c5fd_component 1\nGrid014dcd90-af2e-0475-8f3e-258d78ee3960_component 1\n"
     ]
    }
   ],
   "source": [
    "automation_id_count_dict = control_type_automation_id_count_dict['50026']\n",
    "for automation_id in automation_id_count_dict:\n",
    "    print(automation_id, automation_id_count_dict[automation_id])"
   ]
  },
  {
   "cell_type": "code",
   "execution_count": 9,
   "metadata": {},
   "outputs": [],
   "source": [
    "def prune_hashes(sentence):\n",
    "    regex = re.compile(\"#[A-Fa-f0-9]{64,}#\", re.IGNORECASE)\n",
    "    modified_sentence = sentence\n",
    "    matches = re.findall(regex, modified_sentence)\n",
    "    for match in matches:\n",
    "        modified_sentence = modified_sentence.replace(match, '')\n",
    "\n",
    "    return modified_sentence.strip()"
   ]
  }
 ],
 "metadata": {
  "kernelspec": {
   "display_name": "Python 3",
   "language": "python",
   "name": "python3"
  },
  "language_info": {
   "codemirror_mode": {
    "name": "ipython",
    "version": 3
   },
   "file_extension": ".py",
   "mimetype": "text/x-python",
   "name": "python",
   "nbconvert_exporter": "python",
   "pygments_lexer": "ipython3",
   "version": "3.9.1"
  }
 },
 "nbformat": 4,
 "nbformat_minor": 4
}