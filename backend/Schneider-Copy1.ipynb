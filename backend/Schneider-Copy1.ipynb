{
 "cells": [
  {
   "cell_type": "code",
   "execution_count": 1,
   "metadata": {},
   "outputs": [],
   "source": [
    "import pymongo\n",
    "import re\n",
    "from collections import OrderedDict\n",
    "from datetime import datetime"
   ]
  },
  {
   "cell_type": "code",
   "execution_count": 2,
   "metadata": {},
   "outputs": [],
   "source": [
    "myclient = pymongo.MongoClient(\"mongodb://localhost:27017\", username=\"\", password=\"\")\n",
    "raw_events_db = myclient[\"raw_events_db\"]\n",
    "events_collection = raw_events_db[\"events\"]\n",
    "\n",
    "applications_db = myclient['applications_db']\n",
    "applications_collection= applications_db['applications']"
   ]
  },
  {
   "cell_type": "code",
   "execution_count": 3,
   "metadata": {},
   "outputs": [
    {
     "output_type": "stream",
     "name": "stdout",
     "text": [
      "# Applications:  419\n"
     ]
    }
   ],
   "source": [
    "applications_documents = applications_collection.find({},projection = {\"_id\":1,\"name\":1}).sort(\"name\")\n",
    "\n",
    "app_id_app_name_dict = {}\n",
    "\n",
    "for x in applications_documents:\n",
    "    app_id = x['_id'].strip()\n",
    "    app_name = x['name'].strip()\n",
    "    app_id_app_name_dict[app_id] = app_name\n",
    "print(\"# Applications: \",len(app_id_app_name_dict))"
   ]
  },
  {
   "cell_type": "code",
   "execution_count": 4,
   "metadata": {},
   "outputs": [
    {
     "output_type": "stream",
     "name": "stdout",
     "text": [
      "37f0228f2734c8010512d447a080fad3  -  stoffice  -  88117\nbf57c906fa7d2bb66d07372e41585d96  -  excel  -  73844\ncd0fbb7849b9b9d84c4f8e48e7301ecf  -  outlook  -  69798\na2b5ab0a0378213f941106a349e9304b  -  ifs.corp.lpl.com  -  55706\naa25d6af980471b133f7ad0f981aec16  -  vncecmxcp2prd.ncprod.lpl.com  -  23476\nf6f4ab435f8857ee0528a815c0f6728c  -  lplecm.crm.dynamics.com  -  8526\n0186dcc060cb68888b8a088ec9c9332e  -  msaccess  -  8195\n9edc8b8fa912a3d810043b9f17ea7a8a  -  winword  -  217\nTotal Event Count:  327879\n"
     ]
    }
   ],
   "source": [
    "#Get events per application\n",
    "pipeline= [{\"$group\": {\"_id\": \"$application_id\", \"count\": {\"$sum\": 1}}}]\n",
    "app_id_event_count_doc = events_collection.aggregate(pipeline)\n",
    "app_id_event_count_dict  = {}\n",
    "\n",
    "total_count = 0\n",
    "for x in app_id_event_count_doc:\n",
    "    app_id = x['_id'].strip()\n",
    "    event_count = x['count']\n",
    "    total_count += event_count\n",
    "    app_id_event_count_dict[app_id] = event_count\n",
    "\n",
    "app_id_event_count_dict =  OrderedDict(sorted(app_id_event_count_dict.items(), key=lambda kv:(kv[1], kv[0]), reverse=True))\n",
    "for app_id in app_id_event_count_dict:\n",
    "    print(app_id,\" - \", app_id_app_name_dict[app_id], \" - \", app_id_event_count_dict[app_id])\n",
    "\n",
    "print(\"Total Event Count: \",total_count)"
   ]
  },
  {
   "cell_type": "code",
   "execution_count": 5,
   "metadata": {},
   "outputs": [],
   "source": [
    "for app_id in app_id_event_count_dict:\n",
    "    app_id_title_docs = events_collection.find({\"application_id\": app_id}, projection={'title':1, 'specifications.event_path':1})\n",
    "    title_set = set({})\n",
    "    event_path_set = set({})\n",
    "\n",
    "    for x in app_id_title_docs:\n",
    "        title_set.add(x['title'])\n",
    "        event_path_set.add(x['specifications']['event_path'])\n",
    "\n",
    "    f = open(\"../Schneider/\"+app_id_app_name_dict[app_id].replace(\":\",\"_\").replace(\"-\",\"_\")+\"_title.txt\",'w', encoding=\"utf-8\")\n",
    "    for title in title_set:\n",
    "        f.write(title)\n",
    "        f.write(\"\\n\")\n",
    "    f.close()\n",
    "    f = open(\"../Schneider/\"+app_id_app_name_dict[app_id].replace(\":\",\"_\").replace(\"-\",\"_\")+\"_event_path.txt\",'w', encoding=\"utf-8\")\n",
    "    for event_path in event_path_set:\n",
    "        f.write(event_path)\n",
    "        f.write(\"\\n\")\n",
    "    f.close()"
   ]
  },
  {
   "cell_type": "code",
   "execution_count": 6,
   "metadata": {},
   "outputs": [
    {
     "output_type": "stream",
     "name": "stdout",
     "text": [
      "50033 122\n50029 45\n50000 41\n50025 35\n50032 26\n50004 19\n50020 12\n50034 9\n50003 9\n50021 6\n50011 6\n50008 4\n50030 2\n50026 2\n50018 2\n50017 2\n50014 2\n50009 2\n50007 2\n50037 1\n50036 1\n50027 1\n50006 1\n50002 1\n"
     ]
    }
   ],
   "source": [
    "input_dir = \"../Schneider/\"\n",
    "application_name = 'msaccess'.replace(\"-\",\"_\")\n",
    "\n",
    "\n",
    "control_type_control_name_set_dict = {}\n",
    "control_type_automation_id_set_dict = {}\n",
    "control_type_automation_id_count_dict = {}\n",
    "\n",
    "f = open(input_dir + application_name+\"_event_path.txt\",'r', encoding='utf-8')\n",
    "lines = f.readlines()\n",
    "f.close()\n",
    "\n",
    "for line in lines:\n",
    "    event_path = line.strip()\n",
    "    if len(event_path) == 0:\n",
    "        continue\n",
    "    #if 'user' in event_path.lower():\n",
    "    #    print(event_path)\n",
    "    event_path_items = event_path.split(\"\\/\")\n",
    "    for event_path_item in event_path_items:\n",
    "        event_path_item_elements = event_path_item.split(\"\\|\")\n",
    "        if len(event_path_item_elements) < 4:\n",
    "            continue\n",
    "        automation_id = event_path_item_elements[1][3:].strip()\n",
    "        control_type = event_path_item_elements[2][2:].strip()\n",
    "        control_name = event_path_item_elements[3][2:].strip()\n",
    "        \n",
    "        if control_type in control_type_control_name_set_dict:\n",
    "            control_type_control_name_set = control_type_control_name_set_dict[control_type]\n",
    "        else:\n",
    "            control_type_control_name_set = set({})\n",
    "        control_type_control_name_set.add(control_name)\n",
    "        control_type_control_name_set_dict[control_type] = control_type_control_name_set\n",
    "        \n",
    "        if control_type in control_type_automation_id_set_dict:\n",
    "            control_type_automation_id_set = control_type_automation_id_set_dict[control_type]\n",
    "            \n",
    "        else:\n",
    "            control_type_automation_id_set = set({})\n",
    "        control_type_automation_id_set.add(automation_id)\n",
    "        control_type_automation_id_set_dict[control_type] = control_type_automation_id_set\n",
    "\n",
    "        if control_type in control_type_automation_id_count_dict:\n",
    "            automation_id_count_dict = control_type_automation_id_count_dict[control_type]\n",
    "        else:\n",
    "            automation_id_count_dict = {}\n",
    "        count = 1\n",
    "        if automation_id in automation_id_count_dict:\n",
    "            count += automation_id_count_dict[automation_id]\n",
    "        automation_id_count_dict[automation_id] = count\n",
    "        control_type_automation_id_count_dict[control_type] = automation_id_count_dict\n",
    "        \n",
    "control_type_control_name_count_dict = {}\n",
    "for control_type in control_type_control_name_set_dict:\n",
    "    control_type_control_name_count_dict[control_type] = len(control_type_control_name_set_dict[control_type])\n",
    "control_type_control_name_count_dict = OrderedDict(sorted(control_type_control_name_count_dict.items(), key=lambda kv:(kv[1], kv[0]), reverse=True))\n",
    "\n",
    "for control_type in control_type_automation_id_count_dict:\n",
    "    automation_id_count = control_type_automation_id_count_dict[control_type]\n",
    "    automation_id_count = OrderedDict(sorted(automation_id_count.items(), key=lambda kv:(kv[1], kv[0]), reverse=True))\n",
    "    control_type_automation_id_count_dict[control_type] = automation_id_count\n",
    "    \n",
    "for control_type in control_type_control_name_count_dict:\n",
    "    print(control_type, control_type_control_name_count_dict[control_type])"
   ]
  },
  {
   "cell_type": "code",
   "execution_count": 15,
   "metadata": {
    "tags": []
   },
   "outputs": [
    {
     "output_type": "stream",
     "name": "stdout",
     "text": [
      "\n#08260c55f970144dc6805a6ee34147599fc6b5b55ba956997e3f8737a4f7a6f7# right\n#34e842da806432c225e7df004ab5a7a63725acf06bf387502dab64a568260248#\n#3873ebc89146ed28bffb7315cb9d4dcc364e90ac566b1f437b7f31f0d3b4be28#\n#48fb1f0348c3a0a8e3380f168c82a306fcf764085e8b828031f106a7c7191bf9#\n#565339bc4d33d72817b583024112eb7f5cdf3e5eef0252d6ec1b9c9a94e12bb3#\n#80d9e2df39466d8d7a372b59245908ad9598e07aa2d855cb397dba8a96c07daf# Macro\n#85a39ab345d672ff8ca9b9c6876f3adcacf45ee7c1e2dbd2408fd338bd55e07e#\n#caefb25ee1d75542b44d504117e9a55f27fbc300e00c86f118ad444e3d4e75a2#\n#e502b1863ec58dde931460f3af865f24093c76785098fee472db5c6bc3c48b15# Macro\n#f24ec859e4af152d5f19193d94978481d17ec21806b01db2c2335899609bdd8c# Macro\n#f6bef75c7dcea2f0056e71ea9e0a4ef30f3db62fc502f5a3462ee0df858c43d9# Macro\n'Main Navigation Form' Tab\n'tbl_SecFlow_data' Tab\n26\nAdd New Record\nCancel\nClose\nClose 'Main Navigation Form'\nClose 'tbl#53bf20669201b019bc1536517e14d2e23444b1d170f1aca809d506dc696ac940#AccountValidationChecks#53bf20669201b019bc1536517e14d2e23444b1d170f1aca809d506dc696ac940#combined'\nClose 'tbl#53bf20669201b019bc1536517e14d2e23444b1d170f1aca809d506dc696ac940#InProcess'\nClose 'tbl#53bf20669201b019bc1536517e14d2e23444b1d170f1aca809d506dc696ac940#PDDvalidation#53bf20669201b019bc1536517e14d2e23444b1d170f1aca809d506dc696ac940#review#53bf20669201b019bc1536517e14d2e23444b1d170f1aca809d506dc696ac940#RemoveExceptions'\nClose 'tbl#53bf20669201b019bc1536517e14d2e23444b1d170f1aca809d506dc696ac940#SecFlow#53bf20669201b019bc1536517e14d2e23444b1d170f1aca809d506dc696ac940#data'\nClose 'tbl#53bf20669201b019bc1536517e14d2e23444b1d170f1aca809d506dc696ac940#newrecord#53bf20669201b019bc1536517e14d2e23444b1d170f1aca809d506dc696ac940#review'\nClose 'tbl_AccountValidationChecks_combined'\nClose 'tbl_InProcess'\nClose 'tbl_PDDvalidation_review_RemoveExceptions'\nClose 'tbl_SecFlow_data'\nClose 'tbl_newrecord_review'\nJAZZ #cdf16ec115ad5a808364ce7367d0e85102af855f27b2f758bf2dfb0b4f96a8d0#\nJAZZ Macro\nLine down\nLine up\nMinimize\nNo\nPrevious Tab\nPush Button\nSnipping Tool\nStatusOptions\nStatusOptions - #1b4fe63fbbc5fc424c69c555a0d8796e38e5f621a7de2f488637b183882c429c#\nUpload New Recordsto Master In Process\n"
     ]
    }
   ],
   "source": [
    "# print(control_type_control_name_set_dict)\n",
    "for control_name in sorted(control_type_control_name_set_dict['50000']):\n",
    "    # if \"Realize Your Potential\" in control_name:\n",
    "        print(control_name)"
   ]
  },
  {
   "cell_type": "code",
   "execution_count": 17,
   "metadata": {},
   "outputs": [
    {
     "output_type": "stream",
     "name": "stdout",
     "text": [
      " 223\n2 33\n6 20\n1 8\nUpButton 3\nMinimize-Restore 3\n7 2\n{1AC14E77-02E7-4E5D-B744-2EB1AE5198B7}\\SnippingTool.exe 1\n"
     ]
    }
   ],
   "source": [
    "automation_id_count_dict = control_type_automation_id_count_dict['50000']\n",
    "for automation_id in automation_id_count_dict:\n",
    "    print(automation_id, automation_id_count_dict[automation_id])"
   ]
  },
  {
   "cell_type": "code",
   "execution_count": 9,
   "metadata": {},
   "outputs": [],
   "source": [
    "def prune_hashes(sentence):\n",
    "    regex = re.compile(\"#[A-Fa-f0-9]{64,}#\", re.IGNORECASE)\n",
    "    modified_sentence = sentence\n",
    "    matches = re.findall(regex, modified_sentence)\n",
    "    for match in matches:\n",
    "        modified_sentence = modified_sentence.replace(match, '')\n",
    "\n",
    "    return modified_sentence.strip()"
   ]
  }
 ],
 "metadata": {
  "kernelspec": {
   "display_name": "Python 3",
   "language": "python",
   "name": "python3"
  },
  "language_info": {
   "codemirror_mode": {
    "name": "ipython",
    "version": 3
   },
   "file_extension": ".py",
   "mimetype": "text/x-python",
   "name": "python",
   "nbconvert_exporter": "python",
   "pygments_lexer": "ipython3",
   "version": "3.9.1"
  }
 },
 "nbformat": 4,
 "nbformat_minor": 4
}